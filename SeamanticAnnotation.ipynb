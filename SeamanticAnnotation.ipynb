{
 "cells": [
  {
   "cell_type": "code",
   "execution_count": 36,
   "metadata": {},
   "outputs": [],
   "source": [
    "from natasha import (\n",
    "    Segmenter,\n",
    "    MorphVocab,\n",
    "    NewsEmbedding,\n",
    "    NewsMorphTagger,\n",
    "    NewsSyntaxParser,\n",
    "    NewsNERTagger,\n",
    "    PER,\n",
    "    NamesExtractor,\n",
    "    Doc\n",
    ")\n",
    "from rdflib import Graph, Namespace, URIRef"
   ]
  },
  {
   "cell_type": "code",
   "execution_count": 37,
   "metadata": {},
   "outputs": [],
   "source": [
    "segmenter = Segmenter()\n",
    "morph_vocab = MorphVocab()\n",
    "\n",
    "emb = NewsEmbedding()\n",
    "morph_tagger = NewsMorphTagger(emb)\n",
    "syntax_parser = NewsSyntaxParser(emb)\n",
    "ner_tagger = NewsNERTagger(emb)\n",
    "\n",
    "names_extractor = NamesExtractor(morph_vocab)"
   ]
  },
  {
   "cell_type": "code",
   "execution_count": 38,
   "metadata": {},
   "outputs": [],
   "source": [
    "text_IT = open(r'C:\\Users\\Юлия\\OneDrive\\Документы\\Универ\\3 курс\\8 триместр\\Курсовая\\Semantic annotation\\files\\text_IT.txt', encoding='UTF-8').read()\n",
    "text_Friends = open(r'C:\\Users\\Юлия\\OneDrive\\Документы\\Универ\\3 курс\\8 триместр\\Курсовая\\Semantic annotation\\files\\text_Friends.txt', encoding='UTF-8').read()\n",
    "\n",
    "# print(f'Текст IT:\\n{text_IT}\\n\\nТекст Fiends:\\n{text_Friends}')"
   ]
  },
  {
   "cell_type": "code",
   "execution_count": 39,
   "metadata": {},
   "outputs": [
    {
     "data": {
      "text/plain": [
       "<Graph identifier=Na20aebb8739644f29d4afb97867587cc (<class 'rdflib.graph.Graph'>)>"
      ]
     },
     "execution_count": 39,
     "metadata": {},
     "output_type": "execute_result"
    }
   ],
   "source": [
    "ontology_graph = Graph()\n",
    "ontology_graph.parse(r'C:\\Users\\Юлия\\OneDrive\\Документы\\Универ\\3 курс\\8 триместр\\Курсовая\\Semantic annotation\\files\\ontologies.owl')\n",
    "# ontology_graph.print()"
   ]
  },
  {
   "cell_type": "code",
   "execution_count": 40,
   "metadata": {},
   "outputs": [],
   "source": [
    "doc_IT = Doc(text_IT)\n",
    "doc_Friends = Doc(text_Friends)"
   ]
  },
  {
   "cell_type": "code",
   "execution_count": 41,
   "metadata": {},
   "outputs": [],
   "source": [
    "doc_IT.segment(segmenter)\n",
    "doc_Friends.segment(segmenter)"
   ]
  },
  {
   "cell_type": "code",
   "execution_count": 42,
   "metadata": {},
   "outputs": [],
   "source": [
    "doc_IT.tag_morph(morph_tagger)\n",
    "doc_Friends.tag_morph(morph_tagger)"
   ]
  },
  {
   "cell_type": "code",
   "execution_count": 43,
   "metadata": {},
   "outputs": [],
   "source": [
    "doc_IT.parse_syntax(syntax_parser)\n",
    "doc_Friends.parse_syntax(syntax_parser)"
   ]
  }
 ],
 "metadata": {
  "kernelspec": {
   "display_name": "Python 3",
   "language": "python",
   "name": "python3"
  },
  "language_info": {
   "codemirror_mode": {
    "name": "ipython",
    "version": 3
   },
   "file_extension": ".py",
   "mimetype": "text/x-python",
   "name": "python",
   "nbconvert_exporter": "python",
   "pygments_lexer": "ipython3",
   "version": "3.10.7"
  }
 },
 "nbformat": 4,
 "nbformat_minor": 2
}
