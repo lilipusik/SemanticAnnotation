{
 "cells": [
  {
   "cell_type": "code",
   "execution_count": 115,
   "metadata": {},
   "outputs": [],
   "source": [
    "from natasha import (\n",
    "    Segmenter,\n",
    "    MorphVocab,\n",
    "    NewsEmbedding,\n",
    "    NewsMorphTagger,\n",
    "    NewsSyntaxParser,\n",
    "    NewsNERTagger,\n",
    "    PER,\n",
    "    NamesExtractor,\n",
    "    Doc\n",
    ")\n",
    "from rdflib import Graph, Namespace, URIRef"
   ]
  },
  {
   "cell_type": "code",
   "execution_count": 116,
   "metadata": {},
   "outputs": [],
   "source": [
    "segmenter = Segmenter()\n",
    "morph_vocab = MorphVocab()\n",
    "\n",
    "emb = NewsEmbedding()\n",
    "morph_tagger = NewsMorphTagger(emb)\n",
    "syntax_parser = NewsSyntaxParser(emb)\n",
    "ner_tagger = NewsNERTagger(emb)\n",
    "\n",
    "names_extractor = NamesExtractor(morph_vocab)"
   ]
  },
  {
   "cell_type": "code",
   "execution_count": 117,
   "metadata": {},
   "outputs": [],
   "source": [
    "text_IT = open(r'C:\\Users\\Юлия\\OneDrive\\Документы\\Универ\\3 курс\\8 триместр\\Курсовая\\Semantic annotation\\files\\text_IT.txt', encoding='UTF-8').read()\n",
    "text_Friends = open(r'C:\\Users\\Юлия\\OneDrive\\Документы\\Универ\\3 курс\\8 триместр\\Курсовая\\Semantic annotation\\files\\text_Friends.txt', encoding='UTF-8').read()\n",
    "\n",
    "# print(f'Текст IT:\\n{text_IT}\\n\\nТекст Fiends:\\n{text_Friends}')"
   ]
  },
  {
   "cell_type": "code",
   "execution_count": 118,
   "metadata": {},
   "outputs": [
    {
     "data": {
      "text/plain": [
       "<Graph identifier=Nd74f1c268bca4064a12a3b9dcede24a9 (<class 'rdflib.graph.Graph'>)>"
      ]
     },
     "execution_count": 118,
     "metadata": {},
     "output_type": "execute_result"
    }
   ],
   "source": [
    "ontology_graph = Graph()\n",
    "ontology_graph.parse(r'C:\\Users\\Юлия\\OneDrive\\Документы\\Универ\\3 курс\\8 триместр\\Курсовая\\Semantic annotation\\files\\my_ontologies.owl')\n",
    "# ontology_graph.print()"
   ]
  },
  {
   "cell_type": "code",
   "execution_count": 119,
   "metadata": {},
   "outputs": [],
   "source": [
    "doc_IT = Doc(text_IT)\n",
    "doc_Friends = Doc(text_Friends)"
   ]
  },
  {
   "cell_type": "code",
   "execution_count": 120,
   "metadata": {},
   "outputs": [],
   "source": [
    "doc_IT.segment(segmenter)\n",
    "doc_Friends.segment(segmenter)"
   ]
  },
  {
   "cell_type": "code",
   "execution_count": 121,
   "metadata": {},
   "outputs": [],
   "source": [
    "doc_IT.tag_morph(morph_tagger)\n",
    "doc_Friends.tag_morph(morph_tagger)"
   ]
  },
  {
   "cell_type": "code",
   "execution_count": 122,
   "metadata": {},
   "outputs": [],
   "source": [
    "doc_IT.parse_syntax(syntax_parser)\n",
    "doc_Friends.parse_syntax(syntax_parser)"
   ]
  },
  {
   "cell_type": "code",
   "execution_count": 123,
   "metadata": {},
   "outputs": [
    {
     "name": "stdout",
     "output_type": "stream",
     "text": [
      "['КОМПАНИЯ', 'РЕШАТЬ', 'МНОЖЕСТВО', 'ПРОБЛЕМА', 'ИТ-СФЕРА', 'ОНА', 'ОБЪЕДИНЯТЬ', 'ЭКСПЕРТ', 'СОЗДАНИЕ', 'ИННОВАЦИОННЫЙ', 'РЕШЕНИЕ', 'ОНА', 'ВАЖНЫЙ', 'СИНХРОНИЗИРОВАТЬ', 'УСИЛИЕ', 'КОМАНДА', 'ДОСТИГНУТЬ', 'ПОСТАВИТЬ', 'ЦЕЛЬ', 'КАЖДЫЙ', 'СОТРУДНИК', 'КЛЮЧЕВОЙ', 'ЗВЕНО', 'ВНОСИТЬ', 'СВОЙ', 'ВКЛАД', 'УСПЕХ', 'РАБОТА', 'КОМПАНИЯ', 'ТРЕБОВАТЬ', 'ТЕХНИЧЕСКИЙ', 'НАВЫК', 'УМЕНИЕ', 'РАБОТАТЬ', 'КОЛЛЕКТИВ', 'ВМЕСТЕ', 'МЫ', 'СОЗДАВАТЬ', 'ПРОДУКТ', 'МЕНЯТЬ', 'МИР', 'КОМПАНИЯ', 'РАБОЧИЙ', 'МЕСТО', 'СООБЩЕСТВО', 'ЕДИНОМЫШЛЕННИК', 'СТРЕМИТЬСЯ', 'СОВЕРШЕНСТВО', 'ИТ']\n",
      "['КОМПАНИЯ', 'ДРУГ', 'КАЖДЫЙ', 'ВСТРЕЧА', 'ПРАЗДНИК', 'МЫ', 'ДЕЛИТЬСЯ', 'РАДОСТЬ', 'СМЕХ', 'ИСТОРИЯ', 'ВМЕСТЕ', 'МЫ', 'ПРОВОДИТЬ', 'ВРЕМЯ', 'ПРИРОДА', 'ГОТОВИТЬ', 'ВКУСНЫЙ', 'БЛЮДО', 'УСТРАИВАТЬ', 'ПИКНИК', 'ПРОДУКТ', 'КОТОРЫЙ', 'МЫ', 'ВЫБИРАТЬ', 'ЛЮБОВЬ', 'СТАНОВИТЬСЯ', 'ЧАСТЬ', 'НАШ', 'ОБЩИЙ', 'СТОЛ', 'ФРУКТ', 'СЫР', 'КАЖДЫЙ', 'ВНОСИТЬ', 'СВОЙ', 'ВКЛАД', 'ТАКОЙ', 'АТМОСФЕРА', 'ДРУЖБА', 'КРЕПНУТЬ', 'ВОСПОМИНАНИЕ', 'СТАНОВИТЬСЯ', 'ЯРЧЕ', 'СКОЛЬКО', 'БЫ', 'ВРЕМЯ', 'ПРОЙТИ', 'ЭТОТ', 'ВСТРЕЧА', 'ВСЕГДА', 'ЗАПОМИНАТЬСЯ', 'МЫ', 'ХОРОШИЙ', 'МОМЕНТ']\n"
     ]
    }
   ],
   "source": [
    "for token in doc_IT.tokens:\n",
    "    token.lemmatize(morph_vocab)\n",
    "\n",
    "for token in doc_Friends.tokens:\n",
    "    token.lemmatize(morph_vocab)\n",
    "\n",
    "lemmas_doc_IT = []\n",
    "lemmas_doc_Friends = []\n",
    "\n",
    "for token in doc_IT.tokens:\n",
    "    if token.pos not in {'PUNCT', 'PRED', 'CONJ', 'PART', 'CCONJ', 'SCONJ', 'ADP'}:\n",
    "        lemmas_doc_IT.append(token.lemma.upper())\n",
    "\n",
    "for token in doc_Friends.tokens:\n",
    "    if token.pos not in {'PUNCT', 'PRED', 'CONJ', 'PART', 'CCONJ', 'SCONJ', 'ADP'}:\n",
    "        lemmas_doc_Friends.append(token.lemma.upper())\n",
    "\n",
    "print(lemmas_doc_IT)\n",
    "print(lemmas_doc_Friends)"
   ]
  },
  {
   "cell_type": "code",
   "execution_count": 124,
   "metadata": {},
   "outputs": [],
   "source": [
    "def get_ontologies(lemmas):\n",
    "    for word in lemmas:\n",
    "        synsets = ontology_graph.query(f\"\"\"\n",
    "            SELECT ?synset_id\n",
    "            WHERE {{\n",
    "                ?sense rdf:type ns1:sense ;\n",
    "                    ns1:name ?name ;\n",
    "                    ns1:lemma ?lemma ;\n",
    "                    ns1:synset_id ?synset_id .\n",
    "                FILTER(CONTAINS(?lemma, \"{word}\"))\n",
    "            }}\n",
    "        \"\"\")\n",
    "        print(word, ':')\n",
    "        for row in synsets:\n",
    "            synset_id = row['synset_id']\n",
    "\n",
    "            definitions = ontology_graph.query(f\"\"\"\n",
    "                SELECT ?definition\n",
    "                WHERE {{\n",
    "                    ?synset rdf:type ns1:synset ;\n",
    "                            ns1:id \"{synset_id}\" ;\n",
    "                            ns1:definition ?definition .\n",
    "                }}\n",
    "            \"\"\")\n",
    "\n",
    "            for d in definitions:\n",
    "                print(d['definition'])"
   ]
  },
  {
   "cell_type": "code",
   "execution_count": 125,
   "metadata": {},
   "outputs": [
    {
     "name": "stdout",
     "output_type": "stream",
     "text": [
      "КОМПАНИЯ :\n",
      "группа лиц, проводящих время совместно\n",
      "компания, осуществляющая свою деятельность в области информационных технологий\n",
      "РЕШАТЬ :\n",
      "обдумывать ситуацию, формулируя определённый вывод, делая заключение или вырабатывая план какого-то действия\n",
      "МНОЖЕСТВО :\n",
      "ПРОБЛЕМА :\n",
      "сложный теоретический или практический вопрос, требующий решения, исследования\n",
      "ИТ-СФЕРА :\n",
      "ОНА :\n",
      "ОБЪЕДИНЯТЬ :\n",
      "ЭКСПЕРТ :\n",
      "СОЗДАНИЕ :\n",
      "ИННОВАЦИОННЫЙ :\n",
      "РЕШЕНИЕ :\n",
      "ОНА :\n",
      "ВАЖНЫЙ :\n",
      "СИНХРОНИЗИРОВАТЬ :\n",
      "УСИЛИЕ :\n",
      "КОМАНДА :\n",
      "ДОСТИГНУТЬ :\n",
      "ПОСТАВИТЬ :\n",
      "ЦЕЛЬ :\n",
      "КАЖДЫЙ :\n",
      "СОТРУДНИК :\n",
      "КЛЮЧЕВОЙ :\n",
      "ЗВЕНО :\n",
      "ВНОСИТЬ :\n",
      "СВОЙ :\n",
      "ВКЛАД :\n",
      "УСПЕХ :\n",
      "РАБОТА :\n",
      "КОМПАНИЯ :\n",
      "группа лиц, проводящих время совместно\n",
      "компания, осуществляющая свою деятельность в области информационных технологий\n",
      "ТРЕБОВАТЬ :\n",
      "ТЕХНИЧЕСКИЙ :\n",
      "НАВЫК :\n",
      "УМЕНИЕ :\n",
      "РАБОТАТЬ :\n",
      "КОЛЛЕКТИВ :\n",
      "ВМЕСТЕ :\n",
      "МЫ :\n",
      "СОЗДАВАТЬ :\n",
      "ПРОДУКТ :\n",
      "продовольственные продукты, продовольствие\n",
      "компьютерная программа, предназначенная для выполнения определенной задачи, отличной от той, которая связана с работой самого компьютера, обычно предназначенная для использования конечными пользователями\n",
      "МЕНЯТЬ :\n",
      "МИР :\n",
      "КОМПАНИЯ :\n",
      "группа лиц, проводящих время совместно\n",
      "компания, осуществляющая свою деятельность в области информационных технологий\n",
      "РАБОЧИЙ :\n",
      "МЕСТО :\n",
      "СООБЩЕСТВО :\n",
      "ЕДИНОМЫШЛЕННИК :\n",
      "СТРЕМИТЬСЯ :\n",
      "СОВЕРШЕНСТВО :\n",
      "ИТ :\n",
      "компания, осуществляющая свою деятельность в области информационных технологий\n",
      "продовольственные продукты, продовольствие\n"
     ]
    }
   ],
   "source": [
    "get_ontologies(lemmas_doc_IT)"
   ]
  },
  {
   "cell_type": "code",
   "execution_count": 126,
   "metadata": {},
   "outputs": [
    {
     "name": "stdout",
     "output_type": "stream",
     "text": [
      "КОМПАНИЯ :\n",
      "группа лиц, проводящих время совместно\n",
      "компания, осуществляющая свою деятельность в области информационных технологий\n",
      "ДРУГ :\n",
      "КАЖДЫЙ :\n",
      "ВСТРЕЧА :\n",
      "ПРАЗДНИК :\n",
      "МЫ :\n",
      "ДЕЛИТЬСЯ :\n",
      "РАДОСТЬ :\n",
      "СМЕХ :\n",
      "ИСТОРИЯ :\n",
      "ВМЕСТЕ :\n",
      "МЫ :\n",
      "ПРОВОДИТЬ :\n",
      "ВРЕМЯ :\n",
      "ПРИРОДА :\n",
      "ГОТОВИТЬ :\n",
      "ВКУСНЫЙ :\n",
      "БЛЮДО :\n",
      "УСТРАИВАТЬ :\n",
      "ПИКНИК :\n",
      "ПРОДУКТ :\n",
      "продовольственные продукты, продовольствие\n",
      "компьютерная программа, предназначенная для выполнения определенной задачи, отличной от той, которая связана с работой самого компьютера, обычно предназначенная для использования конечными пользователями\n",
      "КОТОРЫЙ :\n",
      "МЫ :\n",
      "ВЫБИРАТЬ :\n",
      "ЛЮБОВЬ :\n",
      "СТАНОВИТЬСЯ :\n",
      "ЧАСТЬ :\n",
      "НАШ :\n",
      "ОБЩИЙ :\n",
      "СТОЛ :\n",
      "ФРУКТ :\n",
      "СЫР :\n",
      "КАЖДЫЙ :\n",
      "ВНОСИТЬ :\n",
      "СВОЙ :\n",
      "ВКЛАД :\n",
      "ТАКОЙ :\n",
      "АТМОСФЕРА :\n",
      "ДРУЖБА :\n",
      "КРЕПНУТЬ :\n",
      "ВОСПОМИНАНИЕ :\n",
      "СТАНОВИТЬСЯ :\n",
      "ЯРЧЕ :\n",
      "СКОЛЬКО :\n",
      "БЫ :\n",
      "ВРЕМЯ :\n",
      "ПРОЙТИ :\n",
      "ЭТОТ :\n",
      "ВСТРЕЧА :\n",
      "ВСЕГДА :\n",
      "ЗАПОМИНАТЬСЯ :\n",
      "МЫ :\n",
      "ХОРОШИЙ :\n",
      "МОМЕНТ :\n"
     ]
    }
   ],
   "source": [
    "get_ontologies(lemmas_doc_Friends)"
   ]
  }
 ],
 "metadata": {
  "kernelspec": {
   "display_name": "Python 3",
   "language": "python",
   "name": "python3"
  },
  "language_info": {
   "codemirror_mode": {
    "name": "ipython",
    "version": 3
   },
   "file_extension": ".py",
   "mimetype": "text/x-python",
   "name": "python",
   "nbconvert_exporter": "python",
   "pygments_lexer": "ipython3",
   "version": "3.10.7"
  }
 },
 "nbformat": 4,
 "nbformat_minor": 2
}
