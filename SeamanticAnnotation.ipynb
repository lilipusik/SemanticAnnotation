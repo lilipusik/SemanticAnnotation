{
 "cells": [
  {
   "cell_type": "code",
   "execution_count": 1,
   "metadata": {},
   "outputs": [],
   "source": [
    "from natasha import (\n",
    "    Segmenter,\n",
    "    MorphVocab,\n",
    "    NewsEmbedding,\n",
    "    NewsMorphTagger,\n",
    "    NewsSyntaxParser,\n",
    "    NewsNERTagger,\n",
    "    PER,\n",
    "    NamesExtractor,\n",
    "    Doc\n",
    ")\n",
    "from rdflib import Graph, Namespace, URIRef"
   ]
  },
  {
   "cell_type": "code",
   "execution_count": 2,
   "metadata": {},
   "outputs": [],
   "source": [
    "segmenter = Segmenter()\n",
    "morph_vocab = MorphVocab()\n",
    "\n",
    "emb = NewsEmbedding()\n",
    "morph_tagger = NewsMorphTagger(emb)\n",
    "syntax_parser = NewsSyntaxParser(emb)\n",
    "ner_tagger = NewsNERTagger(emb)\n",
    "\n",
    "names_extractor = NamesExtractor(morph_vocab)"
   ]
  },
  {
   "cell_type": "code",
   "execution_count": 3,
   "metadata": {},
   "outputs": [],
   "source": [
    "text_IT = open(r'C:\\Users\\Юлия\\OneDrive\\Документы\\Универ\\3 курс\\8 триместр\\Курсовая\\Semantic annotation\\files\\text_IT.txt', encoding='UTF-8').read()\n",
    "text_Friends = open(r'C:\\Users\\Юлия\\OneDrive\\Документы\\Универ\\3 курс\\8 триместр\\Курсовая\\Semantic annotation\\files\\text_Friends.txt', encoding='UTF-8').read()\n",
    "\n",
    "# print(f'Текст IT:\\n{text_IT}\\n\\nТекст Fiends:\\n{text_Friends}')"
   ]
  },
  {
   "cell_type": "code",
   "execution_count": 4,
   "metadata": {},
   "outputs": [
    {
     "data": {
      "text/plain": [
       "<Graph identifier=N4a4485dca3f94ff98d683beb8c2bfa44 (<class 'rdflib.graph.Graph'>)>"
      ]
     },
     "execution_count": 4,
     "metadata": {},
     "output_type": "execute_result"
    }
   ],
   "source": [
    "ontology_graph = Graph()\n",
    "ontology_graph.parse(r'C:\\Users\\Юлия\\OneDrive\\Документы\\Универ\\3 курс\\8 триместр\\Курсовая\\Semantic annotation\\files\\ontologies.owl')\n",
    "# ontology_graph.print()"
   ]
  },
  {
   "cell_type": "code",
   "execution_count": 5,
   "metadata": {},
   "outputs": [],
   "source": [
    "doc_IT = Doc(text_IT)\n",
    "doc_Friends = Doc(text_Friends)"
   ]
  },
  {
   "cell_type": "code",
   "execution_count": 6,
   "metadata": {},
   "outputs": [],
   "source": [
    "doc_IT.segment(segmenter)\n",
    "doc_Friends.segment(segmenter)"
   ]
  },
  {
   "cell_type": "code",
   "execution_count": 7,
   "metadata": {},
   "outputs": [],
   "source": [
    "doc_IT.tag_morph(morph_tagger)\n",
    "doc_Friends.tag_morph(morph_tagger)"
   ]
  },
  {
   "cell_type": "code",
   "execution_count": 8,
   "metadata": {},
   "outputs": [],
   "source": [
    "doc_IT.parse_syntax(syntax_parser)\n",
    "doc_Friends.parse_syntax(syntax_parser)"
   ]
  },
  {
   "cell_type": "code",
   "execution_count": 9,
   "metadata": {},
   "outputs": [
    {
     "name": "stdout",
     "output_type": "stream",
     "text": [
      "{'Компания': 'компания', 'решает': 'решать', 'множество': 'множество', 'проблем': 'проблема', 'в': 'в', 'ИТ-сфере': 'ит-сфера', '.': '.', 'Она': 'она', 'объединяет': 'объединять', 'экспертов': 'эксперт', 'для': 'для', 'создания': 'создание', 'инновационных': 'инновационный', 'решений': 'решение', 'В': 'в', 'ней': 'она', 'важно': 'важный', 'синхронизировать': 'синхронизировать', 'усилия': 'усилие', 'команды': 'команда', ',': ',', 'чтобы': 'чтобы', 'достичь': 'достигнуть', 'поставленных': 'поставить', 'целей': 'цель', 'Каждый': 'каждый', 'сотрудник': 'сотрудник', '-': '-', 'ключевое': 'ключевой', 'звено': 'звено', 'вносящее': 'вносить', 'свой': 'свой', 'вклад': 'вклад', 'успех': 'успех', 'Работа': 'работа', 'компании': 'компания', 'требует': 'требовать', 'не': 'не', 'только': 'только', 'технических': 'технический', 'навыков': 'навык', 'но': 'но', 'и': 'и', 'умения': 'умение', 'работать': 'работать', 'коллективе': 'коллектив', 'Вместе': 'вместе', 'мы': 'мы', 'создаем': 'создавать', 'продукты': 'продукт', 'меняющие': 'менять', 'мир': 'мир', 'это': 'это', 'просто': 'просто', 'рабочее': 'рабочий', 'место': 'место', 'а': 'а', 'сообщество': 'сообщество', 'единомышленников': 'единомышленник', 'стремящихся': 'стремиться', 'к': 'к', 'совершенству': 'совершенство', 'ИТ': 'ит'}\n",
      "{'В': 'в', 'компании': 'компания', 'друзей': 'друг', ',': ',', 'каждая': 'каждый', 'встреча': 'встреча', '—': '—', 'это': 'это', 'праздник': 'праздник', '.': '.', 'Мы': 'мы', 'делимся': 'делиться', 'радостью': 'радость', 'смехом': 'смех', 'и': 'и', 'историями': 'история', 'Вместе': 'вместе', 'мы': 'мы', 'проводим': 'проводить', 'время': 'время', 'на': 'на', 'природе': 'природа', 'готовим': 'готовить', 'вкусные': 'вкусный', 'блюда': 'блюдо', 'устраиваем': 'устраивать', 'пикники': 'пикник', 'Продукты': 'продукт', 'которые': 'который', 'выбираем': 'выбирать', 'с': 'с', 'любовью': 'любовь', 'становятся': 'становиться', 'частью': 'часть', 'нашего': 'наш', 'общего': 'общий', 'стола': 'стол', 'От': 'от', 'фруктов': 'фрукт', 'до': 'до', 'сыров': 'сыр', 'каждый': 'каждый', 'вносит': 'вносить', 'свой': 'свой', 'вклад': 'вклад', 'такой': 'такой', 'атмосфере': 'атмосфера', 'дружба': 'дружба', 'крепнет': 'крепнуть', 'а': 'а', 'воспоминания': 'воспоминание', 'ярче': 'ярче', 'Сколько': 'сколько', 'бы': 'бы', 'времени': 'время', 'не': 'не', 'прошло': 'пройти', 'эти': 'этот', 'встречи': 'встреча', 'всегда': 'всегда', 'запоминаются': 'запоминаться', 'нам': 'мы', 'как': 'как', 'лучшие': 'хороший', 'моменты': 'момент'}\n"
     ]
    }
   ],
   "source": [
    "for token in doc_IT.tokens:\n",
    "    token.lemmatize(morph_vocab)\n",
    "lemmatized_tokens_doc_IT = {_.text: _.lemma for _ in doc_IT.tokens}\n",
    "\n",
    "for token in doc_Friends.tokens:\n",
    "    token.lemmatize(morph_vocab)\n",
    "lemmatized_tokens_doc_Friends = {_.text: _.lemma for _ in doc_Friends.tokens}\n",
    "\n",
    "print(lemmatized_tokens_doc_IT)\n",
    "print(lemmatized_tokens_doc_Friends)"
   ]
  },
  {
   "cell_type": "code",
   "execution_count": null,
   "metadata": {},
   "outputs": [],
   "source": []
  }
 ],
 "metadata": {
  "kernelspec": {
   "display_name": "Python 3",
   "language": "python",
   "name": "python3"
  },
  "language_info": {
   "codemirror_mode": {
    "name": "ipython",
    "version": 3
   },
   "file_extension": ".py",
   "mimetype": "text/x-python",
   "name": "python",
   "nbconvert_exporter": "python",
   "pygments_lexer": "ipython3",
   "version": "3.10.7"
  }
 },
 "nbformat": 4,
 "nbformat_minor": 2
}
