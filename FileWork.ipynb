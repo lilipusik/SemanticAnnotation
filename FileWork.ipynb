{
 "cells": [
  {
   "cell_type": "code",
   "execution_count": 1,
   "metadata": {},
   "outputs": [],
   "source": [
    "import sqlite3\n",
    "from rdflib import Graph, Namespace, RDF, RDFS, OWL, URIRef, Literal"
   ]
  },
  {
   "cell_type": "code",
   "execution_count": 2,
   "metadata": {},
   "outputs": [],
   "source": [
    "def convert_db_to_owl(path):\n",
    "    conn = sqlite3.connect(path)\n",
    "    cursor = conn.cursor()\n",
    "\n",
    "    cursor.execute(\"SELECT name FROM sqlite_master WHERE type='table';\")\n",
    "    tables = cursor.fetchall()\n",
    "\n",
    "    g = Graph()\n",
    "\n",
    "    owl = Namespace(\"http://www.w3.org/2002/07/owl#\")\n",
    "    ex = Namespace(\"http://example.org#\")\n",
    "\n",
    "    k = 0\n",
    "\n",
    "    try:\n",
    "        # Iterate over each table\n",
    "        for table in tables:\n",
    "            table_name = table[0]\n",
    "            if k == 2: break\n",
    "            if table_name == 'synset' or table_name == 'sense':\n",
    "\n",
    "                k += 1\n",
    "\n",
    "                print(f\"Table: {table_name}\")\n",
    "\n",
    "                cursor.execute(f\"PRAGMA table_info({table_name});\")\n",
    "                columns = cursor.fetchall()\n",
    "                column_names = [col[1] for col in columns]\n",
    "                print(f\"Columns: {column_names}\")\n",
    "\n",
    "                class_uri = ex[table_name]\n",
    "                g.add((class_uri, RDF.type, owl.Class))\n",
    "\n",
    "                for col in columns:\n",
    "                    prop_uri = ex[col[1]]\n",
    "                    g.add((prop_uri, RDF.type, owl.DatatypeProperty))\n",
    "                    g.add((prop_uri, RDFS.domain, class_uri))\n",
    "\n",
    "                cursor.execute(f\"SELECT * FROM {table_name};\")\n",
    "                rows = cursor.fetchall()\n",
    "                for row in rows:\n",
    "                    instance_uri = ex[f\"{table_name}_{row[0]}\"]\n",
    "                    g.add((instance_uri, RDF.type, class_uri))\n",
    "\n",
    "                    for i, value in enumerate(row):\n",
    "                        prop_uri = ex[column_names[i]]\n",
    "                        g.add((instance_uri, prop_uri, Literal(value)))\n",
    "\n",
    "    finally:\n",
    "        conn.close()\n",
    "\n",
    "    g.serialize(destination='ontologies.owl', format='xml')\n"
   ]
  },
  {
   "cell_type": "code",
   "execution_count": 3,
   "metadata": {},
   "outputs": [
    {
     "name": "stdout",
     "output_type": "stream",
     "text": [
      "Table: synset\n",
      "Columns: ['id', 'title', 'definition', 'part_of_speech']\n",
      "Table: sense\n",
      "Columns: ['id', 'name', 'lemma', 'synset_id']\n"
     ]
    }
   ],
   "source": [
    "db_path = r'C:\\Users\\Юлия\\OneDrive\\Документы\\Универ\\3 курс\\8 триместр\\Курсовая\\Semantic annotation\\files\\ruwordnet-2021.db'\n",
    "convert_db_to_owl(db_path)"
   ]
  }
 ],
 "metadata": {
  "kernelspec": {
   "display_name": "Python 3",
   "language": "python",
   "name": "python3"
  },
  "language_info": {
   "codemirror_mode": {
    "name": "ipython",
    "version": 3
   },
   "file_extension": ".py",
   "mimetype": "text/x-python",
   "name": "python",
   "nbconvert_exporter": "python",
   "pygments_lexer": "ipython3",
   "version": "3.10.7"
  }
 },
 "nbformat": 4,
 "nbformat_minor": 2
}
