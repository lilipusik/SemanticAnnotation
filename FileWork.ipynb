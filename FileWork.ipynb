{
 "cells": [
  {
   "cell_type": "code",
   "execution_count": 3,
   "metadata": {},
   "outputs": [],
   "source": [
    "from rdflib import Graph, Namespace, RDF, RDFS, OWL, URIRef, Literal"
   ]
  },
  {
   "cell_type": "code",
   "execution_count": 4,
   "metadata": {},
   "outputs": [
    {
     "data": {
      "text/plain": [
       "<Graph identifier=N49baef099e624c19882123a7f6dd55e2 (<class 'rdflib.graph.Graph'>)>"
      ]
     },
     "execution_count": 4,
     "metadata": {},
     "output_type": "execute_result"
    }
   ],
   "source": [
    "# Создаем RDF граф\n",
    "g = Graph()\n",
    "\n",
    "# Определяем пространства имен\n",
    "onto = Namespace(\"http://example.org/ontology/\")\n",
    "g.bind(\"onto\", onto)\n",
    "\n",
    "# Добавляем концепции и отношения\n",
    "g.add((onto.ITCompany, RDF.type, OWL.Class))\n",
    "g.add((onto.Expert, RDF.type, OWL.Class))\n",
    "g.add((onto.Employee, RDF.type, OWL.Class))\n",
    "g.add((onto.Team, RDF.type, OWL.Class))\n",
    "g.add((onto.Product, RDF.type, OWL.Class))\n",
    "g.add((onto.Community, RDF.type, OWL.Class))\n",
    "\n",
    "g.add((onto.hasExpert, RDF.type, OWL.ObjectProperty))\n",
    "g.add((onto.hasEmployee, RDF.type, OWL.ObjectProperty))\n",
    "g.add((onto.isPartOfTeam, RDF.type, OWL.ObjectProperty))\n",
    "g.add((onto.develops, RDF.type, OWL.ObjectProperty))\n",
    "g.add((onto.isMemberOf, RDF.type, OWL.ObjectProperty))\n",
    "\n",
    "# Добавляем экземпляры и их атрибуты\n",
    "g.add((onto.company, RDF.type, onto.ITCompany))\n",
    "g.add((onto.problem, RDF.type, OWL.Class))\n",
    "g.add((onto.solution, RDF.type, OWL.Class))\n",
    "g.add((onto.innovation, RDF.type, OWL.Class))\n",
    "g.add((onto.goal, RDF.type, OWL.Class))\n",
    "g.add((onto.skill, RDF.type, OWL.Class))\n",
    "g.add((onto.collaboration, RDF.type, OWL.Class))\n",
    "g.add((onto.productivity, RDF.type, OWL.Class))\n",
    "g.add((onto.excellence, RDF.type, OWL.Class))\n",
    "\n",
    "g.add((onto.company, RDFS.label, Literal(\"компания\")))\n",
    "g.add((onto.problem, RDFS.label, Literal(\"проблема\")))\n",
    "g.add((onto.solution, RDFS.label, Literal(\"решение\")))\n",
    "g.add((onto.innovation, RDFS.label, Literal(\"инновация\")))\n",
    "g.add((onto.goal, RDFS.label, Literal(\"цель\")))\n",
    "g.add((onto.skill, RDFS.label, Literal(\"навык\")))\n",
    "g.add((onto.collaboration, RDFS.label, Literal(\"сотрудничество\")))\n",
    "g.add((onto.productivity, RDFS.label, Literal(\"продуктивность\")))\n",
    "g.add((onto.excellence, RDFS.label, Literal(\"совершенство\")))\n",
    "\n",
    "# Описываем связи между концепциями\n",
    "g.add((onto.company, onto.hasExpert, onto.Expert))\n",
    "g.add((onto.company, onto.isMemberOf, onto.Community))\n",
    "g.add((onto.team, onto.isPartOfTeam, onto.company))\n",
    "g.add((onto.employee, onto.hasEmployee, onto.company))\n",
    "g.add((onto.solution, onto.develops, onto.innovation))\n",
    "g.add((onto.skill, onto.isPartOf, onto.employee))\n",
    "g.add((onto.collaboration, onto.isPartOf, onto.team))\n",
    "g.add((onto.productivity, onto.isPartOf, onto.company))\n",
    "g.add((onto.excellence, onto.isPartOf, onto.community))\n",
    "\n",
    "    # Добавляем классы и свойства в онтологию\n",
    "g.add((onto.FriendsCompany, RDF.type, RDFS.Class))\n",
    "g.add((onto.Meeting, RDF.type, RDFS.Class))\n",
    "g.add((onto.Celebration, RDF.type, RDFS.Class))\n",
    "g.add((onto.Product, RDF.type, RDFS.Class))\n",
    "g.add((onto.Friendship, RDF.type, RDFS.Class))\n",
    "\n",
    "g.add((onto.takesPlaceIn, RDF.type, RDF.Property))\n",
    "g.add((onto.includes, RDF.type, RDF.Property))\n",
    "g.add((onto.contributes, RDF.type, RDF.Property))\n",
    "g.add((onto.strengthens, RDF.type, RDF.Property))\n",
    "g.add((onto.creates, RDF.type, RDF.Property))\n",
    "\n",
    "# Добавляем экземпляры сущностей и связи\n",
    "g.add((onto.friendsCompany, RDF.type, onto.FriendsCompany))\n",
    "\n",
    "meeting_uri = URIRef(\"http://example.org/meeting1\")\n",
    "g.add((meeting_uri, RDF.type, onto.Meeting))\n",
    "g.add((meeting_uri, onto.takesPlaceIn, onto.friendsCompany))\n",
    "g.add((meeting_uri, onto.creates, onto.celebration))\n",
    "\n",
    "g.add((onto.celebration, RDF.type, onto.Celebration))\n",
    "\n",
    "g.add((onto.product, RDF.type, onto.Product))\n",
    "g.add((onto.product, onto.contributes, onto.friendsCompany))\n",
    "\n",
    "g.add((onto.friendship, RDF.type, onto.Friendship))\n",
    "g.add((onto.friendship, onto.strengthens, onto.friendsCompany))\n",
    "\n",
    "# Добавляем текстовые аннотации\n",
    "g.add((onto.friendsCompany, RDFS.comment, Literal(\"компания\")))\n",
    "g.add((onto.Meeting, RDFS.comment, Literal(\"встреча\")))\n",
    "g.add((onto.Celebration, RDFS.comment, Literal(\"праздник\")))\n",
    "g.add((onto.Product, RDFS.comment, Literal(\"продукт\")))\n",
    "g.add((onto.Friendship, RDFS.comment, Literal(\"дружба\")))\n",
    "\n",
    "\n",
    "# Сохраняем граф в файл\n",
    "g.serialize(destination='ontologies.owl', format='xml')"
   ]
  }
 ],
 "metadata": {
  "kernelspec": {
   "display_name": "Python 3",
   "language": "python",
   "name": "python3"
  },
  "language_info": {
   "codemirror_mode": {
    "name": "ipython",
    "version": 3
   },
   "file_extension": ".py",
   "mimetype": "text/x-python",
   "name": "python",
   "nbconvert_exporter": "python",
   "pygments_lexer": "ipython3",
   "version": "3.10.7"
  }
 },
 "nbformat": 4,
 "nbformat_minor": 2
}
